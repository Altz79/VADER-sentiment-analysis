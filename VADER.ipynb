{
 "cells": [
  {
   "cell_type": "code",
   "execution_count": 94,
   "metadata": {},
   "outputs": [],
   "source": [
    "import pandas as pd"
   ]
  },
  {
   "cell_type": "code",
   "execution_count": 96,
   "metadata": {},
   "outputs": [],
   "source": [
    "df = pd.read_csv(\"Test.csv\")"
   ]
  },
  {
   "cell_type": "code",
   "execution_count": 97,
   "metadata": {},
   "outputs": [],
   "source": [
    "# Delete rows from Reviews column that just contain phrase \"MoreMore\"\n",
    "\n",
    "df.drop(df.loc[df['reviews.text'] == \"MoreMore\"].index, inplace=True)"
   ]
  },
  {
   "cell_type": "code",
   "execution_count": 98,
   "metadata": {},
   "outputs": [],
   "source": [
    "df[\"Vader Lexicon Score\"] = \"\""
   ]
  },
  {
   "cell_type": "code",
   "execution_count": 99,
   "metadata": {},
   "outputs": [],
   "source": [
    "# create SentimentIntensityAnalyser object\n",
    "\n",
    "from vaderSentiment.vaderSentiment import SentimentIntensityAnalyzer\n",
    "analyser = SentimentIntensityAnalyzer()"
   ]
  },
  {
   "cell_type": "code",
   "execution_count": 100,
   "metadata": {},
   "outputs": [],
   "source": [
    "def sentiment_analyzer_scores(row):\n",
    "    score = analyser.polarity_scores(row)\n",
    "    return score['compound']"
   ]
  },
  {
   "cell_type": "code",
   "execution_count": 101,
   "metadata": {},
   "outputs": [],
   "source": [
    "df[\"Vader Lexicon Score\"] = df['reviews.text'].apply(lambda row: sentiment_analyzer_scores(row))"
   ]
  },
  {
   "cell_type": "code",
   "execution_count": 102,
   "metadata": {},
   "outputs": [],
   "source": [
    "df[\"Vader Lexicon Score Labels\"] = \"\""
   ]
  },
  {
   "cell_type": "code",
   "execution_count": 103,
   "metadata": {},
   "outputs": [],
   "source": [
    "def label_row (row):\n",
    "    if row[\"Vader Lexicon Score\"] >= 0.05:\n",
    "        return 'Positive'\n",
    "    if row[\"Vader Lexicon Score\"] <= 0.05:\n",
    "        return 'Neutral'\n",
    "    if row[\"Vader Lexicon Score\"] <= -0.05:\n",
    "        return 'Negative'\n",
    "    \n",
    "df[\"Vader Lexicon Score Labels\"] = df.apply(lambda row: label_row(row), axis=1)\n",
    "\n",
    "#more details on VADER scoring methodology\n",
    "#https://github.com/cjhutto/vaderSentiment#about-the-scoring"
   ]
  },
  {
   "cell_type": "code",
   "execution_count": 87,
   "metadata": {},
   "outputs": [],
   "source": [
    "#Test single phrase with Vader\n",
    "\n",
    "#def sentiment_analyzer_scores_1(sentence):\n",
    "#    score = analyser.polarity_scores(sentence)\n",
    "#    print(score['compound'])\n",
    "\n",
    "#sentiment_analyzer_scores_1(\"We stayed in the king suite with the separation between the bedroom and the living space. The sofa bed wasn't very good I had back discomfort by the day we left on our three night stay. The room is clean, and the king bed very comfortable. This hotel is located within walking distance to most places you will want to... More\")"
   ]
  },
  {
   "cell_type": "code",
   "execution_count": 104,
   "metadata": {},
   "outputs": [],
   "source": [
    "df.to_csv(\"Vader Lexicon.csv\", index=False)"
   ]
  },
  {
   "cell_type": "code",
   "execution_count": null,
   "metadata": {},
   "outputs": [],
   "source": [
    "def revknn(x,y):\n",
    "    x_train, x_test, y_train, y_test = train_test_split(x, y, test_size=0.25, random_state = 10)\n",
    "    classf = KNeighborsClassifier(n_neighbors=2)\n",
    "    classf.fit(x_train, y_train)\n",
    "    pred = classf.predict(x_test)\n",
    "    print(\"kNN:\", metrics.accuracy_score(y_test, pred))\n",
    "    return (y_test, pred)"
   ]
  }
 ],
 "metadata": {
  "kernelspec": {
   "display_name": "Python 3",
   "language": "python",
   "name": "python3"
  },
  "language_info": {
   "codemirror_mode": {
    "name": "ipython",
    "version": 3
   },
   "file_extension": ".py",
   "mimetype": "text/x-python",
   "name": "python",
   "nbconvert_exporter": "python",
   "pygments_lexer": "ipython3",
   "version": "3.7.4"
  }
 },
 "nbformat": 4,
 "nbformat_minor": 2
}
